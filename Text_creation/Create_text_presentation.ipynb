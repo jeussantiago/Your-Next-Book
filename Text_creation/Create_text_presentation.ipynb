{
 "cells": [
  {
   "cell_type": "code",
   "execution_count": 1,
   "metadata": {},
   "outputs": [],
   "source": [
    "import os\n",
    "import numpy as np\n",
    "\n",
    "from tensorflow.keras.models import model_from_json\n",
    "import random\n",
    "from IPython.display import clear_output\n",
    "import time\n",
    "\n",
    "from passage_modeling import get_char_int_conversion\n",
    "from passage_modeling import get_weights_and_arch\n",
    "from passage_modeling import create_passage\n",
    "from passage_modeling import input_sentence"
   ]
  },
  {
   "cell_type": "code",
   "execution_count": 2,
   "metadata": {},
   "outputs": [],
   "source": [
    "def main():\n",
    "    #get the char to int conversion and vice versa\n",
    "    char_to_int, int_to_char = get_char_int_conversion()\n",
    "    #get list of all models and the architecture\n",
    "    model_paths, loaded_model_json = get_weights_and_arch()\n",
    "\n",
    "    #take input sentence from user\n",
    "    sentence = input_sentence()\n",
    "    clear_output()\n",
    "    \n",
    "    #load architecture\n",
    "    loaded_model = model_from_json(loaded_model_json)\n",
    "    #pick random weights from list\n",
    "    path = random.choice(model_paths)\n",
    "    # load weights into new model\n",
    "    loaded_model.load_weights(path)\n",
    "#     print(\"\\n Loaded model from disk: \", path)\n",
    "\n",
    "    create_passage(loaded_model, sentence, char_to_int, int_to_char)"
   ]
  },
  {
   "cell_type": "code",
   "execution_count": null,
   "metadata": {},
   "outputs": [
    {
     "name": "stdout",
     "output_type": "stream",
     "text": [
      "original sentence:   dafadsfasdf\n",
      "\n",
      "\n",
      " dafadsfasdful forth and sunday of the section 1. e. 8 or the part. look that they do think the sound of the through the morning that the beait you say, and they had a company of the soldier to see the strange of the white briding that at false said that dark whispered to forget to my lord. the canoe of the track of good heart for him in the room to the solical or project gutenberg-tm electronic works, and the street down and owner and the dog; and then he had a way of the little"
     ]
    }
   ],
   "source": [
    "main()"
   ]
  },
  {
   "cell_type": "code",
   "execution_count": null,
   "metadata": {},
   "outputs": [],
   "source": []
  }
 ],
 "metadata": {
  "kernelspec": {
   "display_name": "Python 3",
   "language": "python",
   "name": "python3"
  },
  "language_info": {
   "codemirror_mode": {
    "name": "ipython",
    "version": 3
   },
   "file_extension": ".py",
   "mimetype": "text/x-python",
   "name": "python",
   "nbconvert_exporter": "python",
   "pygments_lexer": "ipython3",
   "version": "3.7.2"
  }
 },
 "nbformat": 4,
 "nbformat_minor": 2
}
