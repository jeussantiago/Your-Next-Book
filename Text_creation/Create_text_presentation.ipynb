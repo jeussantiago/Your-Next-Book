{
 "cells": [
  {
   "cell_type": "code",
   "execution_count": 1,
   "metadata": {},
   "outputs": [],
   "source": [
    "import os\n",
    "import numpy as np\n",
    "\n",
    "from tensorflow.keras.models import model_from_json\n",
    "import random\n",
    "from IPython.display import clear_output\n",
    "import time\n",
    "\n",
    "from passage_modeling import get_char_int_conversion\n",
    "from passage_modeling import get_weights_and_arch\n",
    "from passage_modeling import create_passage\n",
    "from passage_modeling import input_sentence"
   ]
  },
  {
   "cell_type": "code",
   "execution_count": 2,
   "metadata": {},
   "outputs": [],
   "source": [
    "def main():\n",
    "    #get the char to int conversion and vice versa\n",
    "    char_to_int, int_to_char = get_char_int_conversion()\n",
    "    #get list of all models and the architecture\n",
    "    model_paths, loaded_model_json = get_weights_and_arch()\n",
    "\n",
    "    #take input sentence from user\n",
    "    sentence = input_sentence()\n",
    "    clear_output()\n",
    "    \n",
    "    #load architecture\n",
    "    loaded_model = model_from_json(loaded_model_json)\n",
    "    #pick random weights from list\n",
    "    path = random.choice(model_paths)\n",
    "    # load weights into new model\n",
    "    loaded_model.load_weights(path)\n",
    "#     print(\"\\n Loaded model from disk: \", path)\n",
    "\n",
    "    create_passage(loaded_model, sentence, char_to_int, int_to_char)"
   ]
  },
  {
   "cell_type": "code",
   "execution_count": 11,
   "metadata": {},
   "outputs": [
    {
     "name": "stdout",
     "output_type": "stream",
     "text": [
      "original sentence:  kjhkjh\n",
      "\n",
      "\n",
      "kjhkjha, --and that the same proper, --he said the cunt could still on the lively again in the other stast of a door and her prosecutor that you went to see mitya heard and like the man of times, the prisoner was a long full thing and the hand with a sensible prisoner. so i should have been for her father with my own listening and in the track to the condemness in the father was a answer, she was all to have the conscience, and will go along me by the sort of place that i was all the refund with the m"
     ]
    }
   ],
   "source": [
    "main()"
   ]
  },
  {
   "cell_type": "code",
   "execution_count": null,
   "metadata": {},
   "outputs": [],
   "source": []
  }
 ],
 "metadata": {
  "kernelspec": {
   "display_name": "Python 3",
   "language": "python",
   "name": "python3"
  },
  "language_info": {
   "codemirror_mode": {
    "name": "ipython",
    "version": 3
   },
   "file_extension": ".py",
   "mimetype": "text/x-python",
   "name": "python",
   "nbconvert_exporter": "python",
   "pygments_lexer": "ipython3",
   "version": "3.7.2"
  }
 },
 "nbformat": 4,
 "nbformat_minor": 2
}
