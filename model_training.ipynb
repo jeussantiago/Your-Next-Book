{
 "cells": [
  {
   "cell_type": "code",
   "execution_count": 2,
   "metadata": {
    "colab": {},
    "colab_type": "code",
    "id": "E8uu6iv8YE83"
   },
   "outputs": [],
   "source": [
    "import os\n",
    "import numpy as np\n",
    "\n",
    "from tensorflow.keras.models import Sequential\n",
    "from tensorflow.keras.layers import LSTM\n",
    "from tensorflow.keras.layers import Dropout\n",
    "from tensorflow.keras.layers import Dense\n",
    "from tensorflow.keras.callbacks import ModelCheckpoint\n",
    "from tensorflow.keras.models import model_from_json\n",
    "import random\n",
    "\n",
    "import matplotlib.pyplot as plt"
   ]
  },
  {
   "cell_type": "code",
   "execution_count": 3,
   "metadata": {},
   "outputs": [
    {
     "name": "stdout",
     "output_type": "stream",
     "text": [
      "length of all books combined:  74454677\n"
     ]
    }
   ],
   "source": [
    "#load corpus\n",
    "books_combined = open('books_combined.txt').read()\n",
    "print('length of all books combined: ', len(books_combined))"
   ]
  },
  {
   "cell_type": "code",
   "execution_count": 4,
   "metadata": {},
   "outputs": [
    {
     "data": {
      "text/plain": [
       "'man who wrote the note is a german. do you note the peculiar construction of the sentencethis account of you we have from all quarters received. a frenchman or russian could not have written that. it is the german who is so uncourteous to his verbs. it only remains, therefore, to discover what is wanted by this german who writes upon bohemian paper and prefers wearing a mask to showing his face. and here he comes, if i am not mistaken, to resolve all our doubts. as he spoke there was the sharp sound of horses hoofs and grating wheels against the curb, followed by a sharp pull at the bell. holmes whistled. a pair, by the sound, said he. yes, he continued, glancing out of the window. a nice little brougham and a pair of beauties. a hundred and fifty guineas apiece. theres money in this case, watson, if there is nothing else. i think that i had better go, holmes. not a bit, doctor. stay where you are. i am lost without my boswell. and this promises to be interesting. it would be a pity to'"
      ]
     },
     "execution_count": 4,
     "metadata": {},
     "output_type": "execute_result"
    }
   ],
   "source": [
    "books_combined[10000:11000]"
   ]
  },
  {
   "cell_type": "code",
   "execution_count": 5,
   "metadata": {},
   "outputs": [
    {
     "name": "stdout",
     "output_type": "stream",
     "text": [
      "size of data:  5000000\n"
     ]
    }
   ],
   "source": [
    "#work with a subset of the corpus - uses too much space otherwise - kernel crashes \n",
    "start_book_ind = 40000000\n",
    "end_book_ind = 45000000\n",
    "sub_books_combined = books_combined[start_book_ind: end_book_ind]\n",
    "print('size of data: ', len(sub_books_combined))"
   ]
  },
  {
   "cell_type": "code",
   "execution_count": 6,
   "metadata": {
    "colab": {
     "base_uri": "https://localhost:8080/",
     "height": 320
    },
    "colab_type": "code",
    "executionInfo": {
     "elapsed": 542,
     "status": "ok",
     "timestamp": 1560775230493,
     "user": {
      "displayName": "Jeus Santiago",
      "photoUrl": "https://lh6.googleusercontent.com/-AtKW-Olv1xs/AAAAAAAAAAI/AAAAAAAAAXQ/bHntdzwShVg/s64/photo.jpg",
      "userId": "12848142487081449188"
     },
     "user_tz": 240
    },
    "id": "QUbRc1FM8Uwb",
    "outputId": "e3d378fb-80ca-4447-d141-9c74c4ca541d"
   },
   "outputs": [
    {
     "name": "stdout",
     "output_type": "stream",
     "text": [
      "number of unique characters:  48\n",
      "unique characters:  [' ', '!', '&', \"'\", '(', ')', ',', '-', '.', '0', '1', '2', '3', '4', '5', '6', '7', '8', '9', ':', ';', '?', 'a', 'b', 'c', 'd', 'e', 'f', 'g', 'h', 'i', 'j', 'k', 'l', 'm', 'n', 'o', 'p', 'q', 'r', 's', 't', 'u', 'v', 'w', 'x', 'y', 'z']\n"
     ]
    }
   ],
   "source": [
    "#turn characters into integers and integers into characters - chars should be sorted to keep consistency\n",
    "char_to_int = {}\n",
    "int_to_char = {}\n",
    "for i, char in enumerate(sorted(set(sub_books_combined))):\n",
    "    char_to_int[char] = i\n",
    "    int_to_char[i] = char\n",
    "print('number of unique characters: ', len(char_to_int)) #should be 48 every time\n",
    "print('unique characters: ', list(char_to_int.keys()))"
   ]
  },
  {
   "cell_type": "code",
   "execution_count": 15,
   "metadata": {},
   "outputs": [],
   "source": [
    "#returns a tensor for training\n",
    "def get_train(book, sentence_length=50, skip=2):\n",
    "    sent = []\n",
    "    next_c = []\n",
    "    #get varying sentences of same length - skip every other character - 2 is an arbitraily chosen number\n",
    "    for i in range(0, len(book)-sentence_length, skip):\n",
    "        #beginning character position\n",
    "        begin_char = i\n",
    "        #ending character position\n",
    "        end_char = i+sentence_length\n",
    "        #combine sentence to a sentence list\n",
    "        sent.append(book[begin_char: end_char])\n",
    "        #get the next character after the sentence\n",
    "        next_c.append(book[end_char])\n",
    "        \n",
    "    print('First five sentence: \\n', sent[:5])\n",
    "    print('First next characters: \\n', next_c[:5])\n",
    "    \n",
    "    #turn into Tensors for training the model - using one hot encoding method\n",
    "    # 1 if char in sentence and 0 otherwise\n",
    "    unique_c_length = len(set(book)) # number of unique characters in text\n",
    "    num_sent = (len(sent)) #numer of sentences created/ number of datapoints\n",
    "    x = np.zeros((num_sent, sentence_length, unique_c_length), dtype=np.int8)\n",
    "    y = np.zeros((num_sent, unique_c_length), dtype=np.int8)\n",
    "    #fill tensors with values\n",
    "    for i, sentence in enumerate(sent):\n",
    "        #go through each sentence\n",
    "        for k, c in enumerate(sentence):\n",
    "            #turn character into respective unique number position\n",
    "            c_ind = char_to_int[c]\n",
    "            #fill sentence(X) tensor\n",
    "            x[i, k, c_ind] = 1\n",
    "        #turn the next char into respective number\n",
    "        next_c_ind = char_to_int[next_c[i]]\n",
    "        #fill next char(Y) tensor\n",
    "        y[i, next_c_ind] = 1\n",
    "    \n",
    "    #return the training tensors\n",
    "    return x,y\n",
    "  "
   ]
  },
  {
   "cell_type": "code",
   "execution_count": 17,
   "metadata": {
    "colab": {
     "base_uri": "https://localhost:8080/",
     "height": 313
    },
    "colab_type": "code",
    "executionInfo": {
     "elapsed": 38089,
     "status": "ok",
     "timestamp": 1560775271895,
     "user": {
      "displayName": "Jeus Santiago",
      "photoUrl": "https://lh6.googleusercontent.com/-AtKW-Olv1xs/AAAAAAAAAAI/AAAAAAAAAXQ/bHntdzwShVg/s64/photo.jpg",
      "userId": "12848142487081449188"
     },
     "user_tz": 240
    },
    "id": "LHaFY4TLYYo7",
    "outputId": "7f59f7b1-6068-4956-c884-897775c22015"
   },
   "outputs": [
    {
     "name": "stdout",
     "output_type": "stream",
     "text": [
      "sentence_length:  50\n",
      "First five sentence: \n",
      " ['staunch and true friend; and it was with a feeling', 'aunch and true friend; and it was with a feeling o', 'nch and true friend; and it was with a feeling of ', 'h and true friend; and it was with a feeling of th', 'and true friend; and it was with a feeling of the ']\n",
      "First next characters: \n",
      " [' ', 'f', 't', 'e', 'd']\n",
      "Tensor X shape:  (2499975, 50, 48)\n",
      "Tensor Y shape:  (2499975, 48)\n"
     ]
    }
   ],
   "source": [
    "#define the length of each sentence\n",
    "sentence_length = 50\n",
    "print(\"sentence_length: \", sentence_length)\n",
    "#define how many characters each sentence should skip\n",
    "skip = 2\n",
    "#create tensors\n",
    "x, y = get_train(sub_books_combined, sentence_length=sentence_length, skip=skip)\n",
    "print('Tensor X shape: ', x.shape)\n",
    "print('Tensor Y shape: ', y.shape)\n",
    "\n"
   ]
  },
  {
   "cell_type": "code",
   "execution_count": 4,
   "metadata": {
    "colab": {
     "base_uri": "https://localhost:8080/",
     "height": 683
    },
    "colab_type": "code",
    "executionInfo": {
     "elapsed": 1261747,
     "status": "ok",
     "timestamp": 1560812494670,
     "user": {
      "displayName": "Jeus Santiago",
      "photoUrl": "https://lh6.googleusercontent.com/-AtKW-Olv1xs/AAAAAAAAAAI/AAAAAAAAAXQ/bHntdzwShVg/s64/photo.jpg",
      "userId": "12848142487081449188"
     },
     "user_tz": 240
    },
    "id": "5-8MG7_EYxpN",
    "outputId": "19565f69-c5a2-4798-bbad-41545dfc5334"
   },
   "outputs": [
    {
     "name": "stderr",
     "output_type": "stream",
     "text": [
      "WARNING: Logging before flag parsing goes to stderr.\n",
      "W0617 12:41:36.882157 140246884267904 deprecation.py:506] From /usr/local/lib/python3.6/dist-packages/tensorflow/python/ops/init_ops.py:1251: calling VarianceScaling.__init__ (from tensorflow.python.ops.init_ops) with dtype is deprecated and will be removed in a future version.\n",
      "Instructions for updating:\n",
      "Call initializer instance with the dtype argument instead of passing it to the constructor\n",
      "W0617 12:41:40.339449 140246884267904 deprecation.py:323] From /usr/local/lib/python3.6/dist-packages/tensorflow/python/ops/math_grad.py:1250: add_dispatch_support.<locals>.wrapper (from tensorflow.python.ops.array_ops) is deprecated and will be removed in a future version.\n",
      "Instructions for updating:\n",
      "Use tf.where in 2.0, which has the same broadcast rule as np.where\n"
     ]
    },
    {
     "name": "stdout",
     "output_type": "stream",
     "text": [
      "Epoch 1/50\n",
      "2499840/2499975 [============================>.] - ETA: 0s - loss: 1.4722\n",
      "Epoch 00001: loss improved from inf to 1.47221, saving model to weights-improvement-01-1.4722-bigger.hdf5\n",
      "2499975/2499975 [==============================] - 763s 305us/sample - loss: 1.4722\n",
      "Epoch 2/50\n",
      "2499840/2499975 [============================>.] - ETA: 0s - loss: 1.4323\n",
      "Epoch 00002: loss improved from 1.47221 to 1.43225, saving model to weights-improvement-02-1.4323-bigger.hdf5\n",
      "2499975/2499975 [==============================] - 743s 297us/sample - loss: 1.4323\n",
      "Epoch 3/50\n",
      "2499840/2499975 [============================>.] - ETA: 0s - loss: 1.4170\n",
      "Epoch 00003: loss improved from 1.43225 to 1.41704, saving model to weights-improvement-03-1.4170-bigger.hdf5\n",
      "2499975/2499975 [==============================] - 737s 295us/sample - loss: 1.4170\n",
      "Epoch 4/50\n",
      "2499840/2499975 [============================>.] - ETA: 0s - loss: 1.4077\n",
      "Epoch 00004: loss improved from 1.41704 to 1.40772, saving model to weights-improvement-04-1.4077-bigger.hdf5\n",
      "2499975/2499975 [==============================] - 749s 299us/sample - loss: 1.4077\n",
      "Epoch 5/50\n",
      "2499840/2499975 [============================>.] - ETA: 0s - loss: 1.4012\n",
      "Epoch 00005: loss improved from 1.40772 to 1.40116, saving model to weights-improvement-05-1.4012-bigger.hdf5\n",
      "2499975/2499975 [==============================] - 740s 296us/sample - loss: 1.4012\n",
      "Epoch 6/50\n",
      "2499840/2499975 [============================>.] - ETA: 0s - loss: 1.3960\n",
      "Epoch 00006: loss improved from 1.40116 to 1.39605, saving model to weights-improvement-06-1.3961-bigger.hdf5\n",
      "2499975/2499975 [==============================] - 741s 296us/sample - loss: 1.3961\n",
      "Epoch 7/50\n",
      " 523008/2499975 [=====>........................] - ETA: 9:50 - loss: 1.3894Buffered data was truncated after reaching the output size limit."
     ]
    }
   ],
   "source": [
    "#save models that have a lower loss\n",
    "filepath=\"weights-improvement-{epoch:02d}-{loss:.4f}-bigger.hdf5\"\n",
    "checkpoint = ModelCheckpoint(filepath, monitor='loss', verbose=1, save_best_only=True, mode='min')\n",
    "\n",
    "#create network\n",
    "model = Sequential()\n",
    "#128 nodes are used b/c the current network is small\n",
    "model.add(LSTM(128, input_shape=(sentence_length, num_unique_chars)))\n",
    "model.add(Dropout(0.2))\n",
    "# model.add(LSTM(128)) #attempted a deeper model\n",
    "# model.add(Dropout(0.2))\n",
    "#add the output layer\n",
    "model.add(Dense(num_unique_chars, activation='softmax'))\n",
    "#load previous model weights\n",
    "weights_filename = 'weights-improvement-41-1.3235-bigger.hdf5'\n",
    "model.load_weights(weights_filename)\n",
    "model.compile(loss='categorical_crossentropy', optimizer='adam')\n",
    "#because of the many number of datapoints and having low computing power, a batch size \n",
    "#of 256 is used with epochs of 50\n",
    "model.fit(x, y, epochs=50, batch_size=256, callbacks=[checkpoint])\n",
    "\n",
    "#the data output is truncated however, it is still running in the background"
   ]
  },
  {
   "cell_type": "code",
   "execution_count": 7,
   "metadata": {
    "colab": {
     "base_uri": "https://localhost:8080/",
     "height": 134
    },
    "colab_type": "code",
    "executionInfo": {
     "elapsed": 378,
     "status": "ok",
     "timestamp": 1560812539370,
     "user": {
      "displayName": "Jeus Santiago",
      "photoUrl": "https://lh6.googleusercontent.com/-AtKW-Olv1xs/AAAAAAAAAAI/AAAAAAAAAXQ/bHntdzwShVg/s64/photo.jpg",
      "userId": "12848142487081449188"
     },
     "user_tz": 240
    },
    "id": "IK2vdfNF62E8",
    "outputId": "a48da245-fd5a-40f6-cd1d-589151b02d4a"
   },
   "outputs": [
    {
     "name": "stdout",
     "output_type": "stream",
     "text": [
      "Saved model to disk\n"
     ]
    }
   ],
   "source": [
    "# serialize model architecture to json\n",
    "model_json = model.to_json()\n",
    "with open(\"model_8_architecture.json\", \"w+\") as json_file:\n",
    "    json_file.write(model_json)\n",
    "# serialize weights to h5\n",
    "model.save_weights(\"model_8.h5\")\n",
    "print(\"Saved model to disk\")"
   ]
  },
  {
   "cell_type": "code",
   "execution_count": 0,
   "metadata": {
    "colab": {},
    "colab_type": "code",
    "id": "7UkOf1IqzBid"
   },
   "outputs": [],
   "source": [
    "history_dict = model.history.history"
   ]
  },
  {
   "cell_type": "code",
   "execution_count": 10,
   "metadata": {
    "colab": {
     "base_uri": "https://localhost:8080/",
     "height": 946
    },
    "colab_type": "code",
    "collapsed": true,
    "executionInfo": {
     "elapsed": 386,
     "status": "ok",
     "timestamp": 1560812571915,
     "user": {
      "displayName": "Jeus Santiago",
      "photoUrl": "https://lh6.googleusercontent.com/-AtKW-Olv1xs/AAAAAAAAAAI/AAAAAAAAAXQ/bHntdzwShVg/s64/photo.jpg",
      "userId": "12848142487081449188"
     },
     "user_tz": 240
    },
    "id": "YHHBkTCSzy71",
    "outputId": "9a8f5b5d-3f5a-4e9c-be2b-92a3181c1452"
   },
   "outputs": [
    {
     "data": {
      "text/plain": [
       "[1.472209071724268,\n",
       " 1.4322545148645418,\n",
       " 1.4170395065514338,\n",
       " 1.4077179455734967,\n",
       " 1.401156905205231,\n",
       " 1.3960505306511042,\n",
       " 1.3912652623421546,\n",
       " 1.387771923031158,\n",
       " 1.3849767623745783,\n",
       " 1.3820597656695923,\n",
       " 1.379319299157843,\n",
       " 1.377422666236445,\n",
       " 1.3752918695434322,\n",
       " 1.3737727290467083,\n",
       " 1.371457945805044,\n",
       " 1.3707019597353758,\n",
       " 1.368975222297694,\n",
       " 1.367884860059977,\n",
       " 1.3662232881236607,\n",
       " 1.3655074607106317,\n",
       " 1.3649576068941842,\n",
       " 1.3637895111346763,\n",
       " 1.362820964516694,\n",
       " 1.361936084596556,\n",
       " 1.360674078088399,\n",
       " 1.3597056277136161,\n",
       " 1.3594131983531368,\n",
       " 1.3584677821489157,\n",
       " 1.3579722334849615,\n",
       " 1.356572548734015,\n",
       " 1.3565441420185114,\n",
       " 1.3566137180147742,\n",
       " 1.3551201154012216,\n",
       " 1.3548179799908464,\n",
       " 1.354164543909748,\n",
       " 1.3535691786450392,\n",
       " 1.3529858613428358,\n",
       " 1.3525109123434298,\n",
       " 1.3517916632319933,\n",
       " 1.3516362233503298,\n",
       " 1.3507998043846672,\n",
       " 1.350470802286596,\n",
       " 1.3499019659393199,\n",
       " 1.3492363917828918,\n",
       " 1.3492080820307142,\n",
       " 1.3482953789423968,\n",
       " 1.3477859384765456,\n",
       " 1.3480470667892084,\n",
       " 1.348177056285381,\n",
       " 1.347517612715371]"
      ]
     },
     "execution_count": 10,
     "metadata": {
      "tags": []
     },
     "output_type": "execute_result"
    }
   ],
   "source": [
    "history_dict['loss']"
   ]
  },
  {
   "cell_type": "code",
   "execution_count": 18,
   "metadata": {
    "colab": {
     "base_uri": "https://localhost:8080/",
     "height": 696
    },
    "colab_type": "code",
    "executionInfo": {
     "elapsed": 659,
     "status": "ok",
     "timestamp": 1560812662268,
     "user": {
      "displayName": "Jeus Santiago",
      "photoUrl": "https://lh6.googleusercontent.com/-AtKW-Olv1xs/AAAAAAAAAAI/AAAAAAAAAXQ/bHntdzwShVg/s64/photo.jpg",
      "userId": "12848142487081449188"
     },
     "user_tz": 240
    },
    "id": "jDzH5x4nkIuV",
    "outputId": "4c3d8681-ed49-47a1-ae4c-90e8e0aedb48",
    "scrolled": false
   },
   "outputs": [
    {
     "data": {
      "image/png": "[encoded data removed]",
      "text/plain": [
       "<Figure size 1080x720 with 1 Axes>"
      ]
     },
     "metadata": {
      "tags": []
     },
     "output_type": "display_data"
    }
   ],
   "source": [
    "#look at the loss function\n",
    "plt.figure(figsize=(15,10))\n",
    "plt.plot(range(50), history_dict['loss'])\n",
    "plt.title('Training Data Loss Function', size=20)\n",
    "plt.xlabel('epochs', size=20)\n",
    "plt.ylabel('loss', size=20)\n",
    "plt.show()"
   ]
  },
  {
   "cell_type": "code",
   "execution_count": 64,
   "metadata": {
    "colab": {},
    "colab_type": "code",
    "id": "-V3eJIaz1Ci1"
   },
   "outputs": [],
   "source": [
    "#creates new sentences\n",
    "def create_passage(model):\n",
    "    #full passage string\n",
    "    gen_sentence = ''\n",
    "\n",
    "    #create sentence by pulling a random piece of text from the corpus\n",
    "    start_ind = random.randint(0, len(sub_books_combined) - sentence_length - 1)\n",
    "    sentence = sub_books_combined[start_ind: start_ind+sentence_length]\n",
    "    gen_sentence += sentence\n",
    "    print('original sentence: ', sentence)\n",
    "    print('\\n')\n",
    "    \n",
    "    #predict the next 500 characters \n",
    "    print(sentence, end=\"\", flush=True)\n",
    "    for i in range(250):\n",
    "#     period_cnt = 0\n",
    "#     while period_cnt != 2:\n",
    "        #turn single sentence into model format\n",
    "        x_pred = np.zeros((1, sentence_length, len(char_to_int)))\n",
    "        #fill tensor with correspoinding values\n",
    "        for k, c in enumerate(sentence):\n",
    "            x_ind = char_to_int[c]\n",
    "            x_pred[0, k, x_ind] = 1\n",
    "\n",
    "        #predict next character - returns predicted probabilities\n",
    "        prob_c = model.predict(x_pred, verbose=0)[0]\n",
    "        #turn to float64 - mulitnomial gives error otherwise\n",
    "        prob_c = np.asarray(prob_c).astype('float64')\n",
    "        #sample from the probability - try out difference softmax temperature values - 0.5 produced best results\n",
    "        log_prob = np.log(prob_c) / 0.5\n",
    "        exp_prob = np.exp(log_prob)\n",
    "        pred_prob = exp_prob/np.sum(exp_prob)\n",
    "        #sample from new probability distribution\n",
    "        p = np.random.multinomial(1, pred_prob, 1) \n",
    "        #get the probability position\n",
    "        prob_ind = np.argmax(p)\n",
    "\n",
    "        #turn prediction into a character\n",
    "        next_c = int_to_char[prob_ind]\n",
    "#         if next_c == '.':\n",
    "#             period_cnt += 1\n",
    "        #add character to generated sentence\n",
    "        gen_sentence += next_c\n",
    "        #get new sentence by sliding to index of sentence\n",
    "        sentence = sentence[1:]+next_c\n",
    "        print(next_c, end=\"\", flush=True)\n",
    "\n",
    "  \n",
    "    return gen_sentence"
   ]
  },
  {
   "cell_type": "code",
   "execution_count": 21,
   "metadata": {
    "colab": {
     "base_uri": "https://localhost:8080/",
     "height": 154
    },
    "colab_type": "code",
    "executionInfo": {
     "elapsed": 14319,
     "status": "ok",
     "timestamp": 1560813266258,
     "user": {
      "displayName": "Jeus Santiago",
      "photoUrl": "https://lh6.googleusercontent.com/-AtKW-Olv1xs/AAAAAAAAAAI/AAAAAAAAAXQ/bHntdzwShVg/s64/photo.jpg",
      "userId": "12848142487081449188"
     },
     "user_tz": 240
    },
    "id": "8gbuPYbo9lTM",
    "outputId": "be144c9b-49fa-461e-96d6-20d20319f544"
   },
   "outputs": [
    {
     "name": "stdout",
     "output_type": "stream",
     "text": [
      "original sentence:  ic; but, however this may be, i am prepared to sub\n",
      "ic; but, however this may be, i am prepared to subsidier and constant than the tear of the designs of the house i have the consideration of the man something when they say that he would ever take him to be the hand with the profession of the thing he said to the consideration of such words that the strange are excepting to engage them his course at the pains of the subjects of the lower army was a second means, and understanding him to be short to be presented the point of the street and at the consideration of which he was with the other thing\n"
     ]
    }
   ],
   "source": [
    "#test out creating a passage using some of the passage within the books\n",
    "print(create_passage(model))"
   ]
  },
  {
   "cell_type": "markdown",
   "metadata": {
    "colab_type": "text",
    "id": "mAmaQ96a-GiG"
   },
   "source": [
    "## load other saved model weights and architecture and predict"
   ]
  },
  {
   "cell_type": "code",
   "execution_count": 75,
   "metadata": {},
   "outputs": [
    {
     "name": "stdout",
     "output_type": "stream",
     "text": [
      "\n",
      " Loaded model from disk:  models/round8/model_8.h5\n",
      "original sentence:  to the balance with health, than they do with this\n",
      "\n",
      "\n",
      "to the balance with health, than they do with this feeling discovering the trick that with the great face of a little who was made out we are here. the doveral as some other sight of discretion the man of the supply it is no account of his head and a same white of the man had a place of her perfect \n"
     ]
    }
   ],
   "source": [
    "# load json and create model architecture\n",
    "architecture_path = \"models/round8/model_8_architecture.json\"\n",
    "json_file = open(architecture_path, 'r')\n",
    "loaded_model_json = json_file.read()\n",
    "json_file.close()\n",
    "loaded_model = model_from_json(loaded_model_json)\n",
    "# load weights into new model\n",
    "path = \"models/round8/model_8.h5\"\n",
    "loaded_model.load_weights(path)\n",
    "print(\"\\n Loaded model from disk: \", path)\n",
    "create_passage(loaded_model)\n",
    "print()"
   ]
  }
 ],
 "metadata": {
  "accelerator": "GPU",
  "colab": {
   "collapsed_sections": [],
   "name": "text_building.ipynb",
   "provenance": [],
   "version": "0.3.2"
  },
  "kernelspec": {
   "display_name": "Python 3",
   "language": "python",
   "name": "python3"
  },
  "language_info": {
   "codemirror_mode": {
    "name": "ipython",
    "version": 3
   },
   "file_extension": ".py",
   "mimetype": "text/x-python",
   "name": "python",
   "nbconvert_exporter": "python",
   "pygments_lexer": "ipython3",
   "version": "3.7.2"
  }
 },
 "nbformat": 4,
 "nbformat_minor": 1
}
