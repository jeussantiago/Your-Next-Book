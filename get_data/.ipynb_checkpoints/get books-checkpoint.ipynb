{
 "cells": [
  {
   "cell_type": "code",
   "execution_count": 147,
   "metadata": {},
   "outputs": [],
   "source": [
    "import requests\n",
    "from bs4 import BeautifulSoup"
   ]
  },
  {
   "cell_type": "code",
   "execution_count": 148,
   "metadata": {},
   "outputs": [],
   "source": [
    "#inspect page where the list of books are with corresponding links\n",
    "book_page_list = 'https://www.gutenberg.org/browse/scores/top#books-last30'\n",
    "html_page = requests.get(book_page_list) \n",
    "soup = BeautifulSoup(html_page.content, 'html.parser')"
   ]
  },
  {
   "cell_type": "code",
   "execution_count": 150,
   "metadata": {},
   "outputs": [
    {
     "data": {
      "text/plain": [
       "[<a href=\"/ebooks/1342\">Pride and Prejudice by Jane Austen (25923)</a>,\n",
       " <a href=\"/ebooks/84\">Frankenstein; Or, The Modern Prometheus by Mary Wollstonecraft Shelley (15305)</a>,\n",
       " <a href=\"/ebooks/11\">Alice's Adventures in Wonderland by Lewis Carroll (14342)</a>,\n",
       " <a href=\"/ebooks/1661\">The Adventures of Sherlock Holmes by Arthur Conan Doyle (13114)</a>,\n",
       " <a href=\"/ebooks/98\">A Tale of Two Cities by Charles Dickens (11776)</a>]"
      ]
     },
     "execution_count": 150,
     "metadata": {},
     "output_type": "execute_result"
    }
   ],
   "source": [
    "books_list = soup.find('h2', id='books-last30').next_sibling.next_sibling\n",
    "books_list = books_list.find_all('a')\n",
    "books_list[:5]"
   ]
  },
  {
   "cell_type": "code",
   "execution_count": 152,
   "metadata": {
    "scrolled": true
   },
   "outputs": [
    {
     "name": "stdout",
     "output_type": "stream",
     "text": [
      "Pride_and_Prejudice_by_Jane_Austen\n",
      "Frankenstein;_Or,_The_Modern_Prometheus_by_Mary_Wollstonecraft_Shelley\n",
      "Alice's_Adventures_in_Wonderland_by_Lewis_Carroll\n",
      "The_Adventures_of_Sherlock_Holmes_by_Arthur_Conan_Doyle\n",
      "A_Tale_of_Two_Cities_by_Charles_Dickens\n",
      "The_Importance_of_Being_Earnest:_A_Trivial_Comedy_for_Serious_People_by_Oscar_Wilde\n",
      "Dracula_by_Bram_Stoker\n",
      "The_Strange_Case_of_Dr._Jekyll_and_Mr._Hyde_by_Robert_Louis_Stevenson\n",
      "Moby_Dick;_Or,_The_Whale_by_Herman_Melville\n",
      "War_and_Peace_by_graf_Leo_Tolstoy\n",
      "The_Adventures_of_Tom_Sawyer_by_Mark_Twain\n",
      "The_Romance_of_Lust:_A_classic_Victorian_erotic_novel_by_Anonymous\n",
      "Ulysses_by_James_Joyce\n",
      "Et_dukkehjem._English_by_Henrik_Ibsen\n",
      "The_Picture_of_Dorian_Gray_by_Oscar_Wilde\n",
      "Beowulf:_An_Anglo-Saxon_Epic_Poem\n",
      "Jane_Eyre:_An_Autobiography_by_Charlotte_Brontë\n",
      "Metamorphosis_by_Franz_Kafka\n",
      "Adventures_of_Huckleberry_Finn_by_Mark_Twain\n",
      "Great_Expectations_by_Charles_Dickens\n",
      "The_Yellow_Wallpaper_by_Charlotte_Perkins_Gilman\n",
      "The_Count_of_Monte_Cristo,_Illustrated_by_Alexandre_Dumas\n",
      "Les_Misérables_by_Victor_Hugo\n",
      "Heart_of_Darkness_by_Joseph_Conrad\n",
      "Prestuplenie_i_nakazanie._English_by_Fyodor_Dostoyevsky\n",
      "Emma_by_Jane_Austen\n",
      "Le_Morte_d'Arthur:_Volume_1_by_Sir_Thomas_Malory\n",
      "The_Brothers_Karamazov_by_Fyodor_Dostoyevsky\n",
      "The_Iliad_by_Homer\n",
      "Grimms'_Fairy_Tales_by_Jacob_Grimm_and_Wilhelm_Grimm\n",
      "The_Souls_of_Black_Folk_by_W._E._B._Du_Bois\n",
      "The_Awakening,_and_Selected_Short_Stories_by_Kate_Chopin\n",
      "Il_Principe._English_by_Niccolò_Machiavelli\n",
      "Treasure_Island_by_Robert_Louis_Stevenson\n",
      "The_Republic_by_Plato\n",
      "Peter_Pan_by_J._M._Barrie\n",
      "Meditations_by_Emperor_of_Rome_Marcus_Aurelius\n",
      "Walden,_and_On_The_Duty_Of_Civil_Disobedience_by_Henry_David_Thoreau\n",
      "Siddhartha_by_Hermann_Hesse\n",
      "The_Kama_Sutra_of_Vatsyayana_by_Vatsyayana\n",
      "My_Secret_Life,_Volumes_I._to_III._by_Anonymous\n",
      "The_Elements_of_Style_by_William_Strunk\n",
      "The_Complete_Works_of_William_Shakespeare_by_William_Shakespeare\n",
      "Leaves_of_Grass_by_Walt_Whitman\n",
      "The_Time_Machine_by_H._G._Wells\n",
      "The_Wonderful_Wizard_of_Oz_by_L._Frank_Baum\n",
      "Dubliners_by_James_Joyce\n",
      "A_Study_in_Scarlet_by_Arthur_Conan_Doyle\n",
      "The_Prophet_by_Kahlil_Gibran\n",
      "A_Christmas_Carol_in_Prose;_Being_a_Ghost_Story_of_Christmas_by_Charles_Dickens\n",
      "Wuthering_Heights_by_Emily_Brontë\n",
      "Don_Quixote_by_Miguel_de_Cervantes_Saavedra\n",
      "Beyond_Good_and_Evil_by_Friedrich_Wilhelm_Nietzsche\n",
      "A_Modest_Proposal_by_Jonathan_Swift\n",
      "The_King_James_Version_of_the_Bible\n",
      "Manifest_der_Kommunistischen_Partei._English_by_Friedrich_Engels_and_Karl_Marx\n",
      "Paradise_Lost_by_John_Milton\n",
      "Pygmalion_by_Bernard_Shaw\n",
      "Anne_of_Green_Gables_by_L._M._Montgomery\n",
      "Forbidden_Fruit:_Luscious_and_exciting_story,_and_More_forbidden_fruit;_or,_Master_Percy's_progress_\n",
      "Oliver_Twist_by_Charles_Dickens\n",
      "Leviathan_by_Thomas_Hobbes\n",
      "Narrative_of_the_Life_of_Frederick_Douglass,_an_American_Slave_by_Frederick_Douglass\n",
      "The_Hound_of_the_Baskervilles_by_Arthur_Conan_Doyle\n",
      "The_War_of_the_Worlds_by_H._G._Wells\n",
      "The_Secret_Garden_by_Frances_Hodgson_Burnett\n",
      "The_Odyssey_by_Homer\n",
      "Sense_and_Sensibility_by_Jane_Austen\n",
      "The_Life_and_Adventures_of_Robinson_Crusoe_by_Daniel_Defoe\n",
      "Also_sprach_Zarathustra._English_by_Friedrich_Wilhelm_Nietzsche\n",
      "The_Works_of_Edgar_Allan_Poe_—_Volume_2_by_Edgar_Allan_Poe\n",
      "An_Index_of_The_Divine_Comedy_by_Dante_by_Dante_Alighieri\n",
      "A_Princess_of_Mars_by_Edgar_Rice_Burroughs\n",
      "An_Occurrence_at_Owl_Creek_Bridge_by_Ambrose_Bierce\n",
      "Little_Women_by_Louisa_May_Alcott\n",
      "Notre-Dame_de_Paris_by_Victor_Hugo\n",
      "The_Tragedy_of_Romeo_and_Juliet_by_William_Shakespeare\n",
      "Anna_Karenina_by_graf_Leo_Tolstoy\n",
      "The_Sign_of_the_Four_by_Arthur_Conan_Doyle\n",
      "The_Mysterious_Affair_at_Styles_by_Agatha_Christie\n",
      "A_Spring_Harvest\n",
      "Candide_by_Voltaire\n",
      "Hard_Times_by_Charles_Dickens\n",
      "Memoirs_of_Fanny_Hill_by_John_Cleland\n",
      "Uncle_Tom's_Cabin_by_Harriet_Beecher_Stowe\n",
      "Divine_Comedy,_Longfellow's_Translation,_Hell_by_Dante_Alighieri\n",
      "The_Call_of_the_Wild_by_Jack_London\n",
      "The_Scarlet_Letter_by_Nathaniel_Hawthorne\n",
      "Essays_of_Michel_de_Montaigne_—_Complete_by_Michel_de_Montaigne\n",
      "Don_Quijote_by_Miguel_de_Cervantes_Saavedra\n",
      "The_Turn_of_the_Screw_by_Henry_James\n",
      "2_B_R_0_2_B_by_Kurt_Vonnegut\n",
      "Le_Morte_d'Arthur:_Volume_2_by_Sir_Thomas_Malory\n",
      "Middlemarch_by_George_Eliot\n",
      "Gulliver's_Travels_into_Several_Remote_Nations_of_the_World_by_Jonathan_Swift\n",
      "Northanger_Abbey_by_Jane_Austen\n"
     ]
    }
   ],
   "source": [
    "book_names = []\n",
    "base_link_url = 'https://www.gutenberg.org'\n",
    "for book_info in books_list:\n",
    "    #book name\n",
    "    book_name = book_info.text.split(' (')[0].replace('  ', ' ')\n",
    "    book_name = book_name.replace(' ', '_')\n",
    "    #book link to multiple reading formats i.e. txt or pdf\n",
    "    book_download_link = base_link_url + str(book_info['href'])\n",
    "    \n",
    "    #access new page\n",
    "    html_page = requests.get(book_download_link) \n",
    "    book_soup = BeautifulSoup(html_page.content, 'html.parser')\n",
    "    \n",
    "    #get to download options table\n",
    "    book_download_list = book_soup.find_all('tr', class_='even')\n",
    "    for d in book_download_list:\n",
    "        #find content which starts with the id = 'text/plain'\n",
    "        d_link = d.find(content=lambda value: value and value.startswith(\"text/plain\"))\n",
    "        #check if the text file exists\n",
    "        if d_link:\n",
    "            book_txt_link = d_link.next_element.get('href')\n",
    "            #links start with '//' or '/' - get rid of it\n",
    "            if book_txt_link.startswith('//'):\n",
    "                book_txt_link = book_txt_link[2:]\n",
    "            elif book_txt_link.startswith('/'):\n",
    "                book_txt_link = book_txt_link[1:]\n",
    "            #make website into a link\n",
    "            book_txt_link = 'https://' + book_txt_link\n",
    "#             print(book_txt_link)\n",
    "            \n",
    "            #record the book if succesfully scrapped\n",
    "            book_names.append(book_name)\n",
    "            print(book_name)\n",
    "            \n",
    "            #Access book txt files\n",
    "            txt_page = requests.get(book_txt_link)\n",
    "            txt_data = txt_page.text\n",
    "\n",
    "            #save book to txt on local - create and write into new txt file\n",
    "            f = open('../project_books/'+book_name+'.txt', 'w+')\n",
    "            f.write(txt_data)\n",
    "            f.close()"
   ]
  },
  {
   "cell_type": "code",
   "execution_count": 154,
   "metadata": {},
   "outputs": [
    {
     "data": {
      "text/plain": [
       "96"
      ]
     },
     "execution_count": 154,
     "metadata": {},
     "output_type": "execute_result"
    }
   ],
   "source": [
    "len(book_names)"
   ]
  },
  {
   "cell_type": "code",
   "execution_count": null,
   "metadata": {},
   "outputs": [],
   "source": []
  },
  {
   "cell_type": "code",
   "execution_count": null,
   "metadata": {},
   "outputs": [],
   "source": []
  },
  {
   "cell_type": "code",
   "execution_count": null,
   "metadata": {},
   "outputs": [],
   "source": []
  },
  {
   "cell_type": "code",
   "execution_count": null,
   "metadata": {},
   "outputs": [],
   "source": []
  },
  {
   "cell_type": "code",
   "execution_count": null,
   "metadata": {},
   "outputs": [],
   "source": []
  },
  {
   "cell_type": "code",
   "execution_count": null,
   "metadata": {},
   "outputs": [],
   "source": []
  },
  {
   "cell_type": "code",
   "execution_count": null,
   "metadata": {},
   "outputs": [],
   "source": []
  },
  {
   "cell_type": "code",
   "execution_count": null,
   "metadata": {},
   "outputs": [],
   "source": []
  }
 ],
 "metadata": {
  "kernelspec": {
   "display_name": "Python 3",
   "language": "python",
   "name": "python3"
  },
  "language_info": {
   "codemirror_mode": {
    "name": "ipython",
    "version": 3
   },
   "file_extension": ".py",
   "mimetype": "text/x-python",
   "name": "python",
   "nbconvert_exporter": "python",
   "pygments_lexer": "ipython3",
   "version": "3.7.2"
  }
 },
 "nbformat": 4,
 "nbformat_minor": 2
}
