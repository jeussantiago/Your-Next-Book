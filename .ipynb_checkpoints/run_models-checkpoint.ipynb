{
 "cells": [
  {
   "cell_type": "code",
   "execution_count": 37,
   "metadata": {},
   "outputs": [],
   "source": [
    "import os\n",
    "import numpy as np\n",
    "\n",
    "from tensorflow.keras.models import Sequential\n",
    "from tensorflow.keras.layers import LSTM\n",
    "from tensorflow.keras.layers import Dropout\n",
    "from tensorflow.keras.layers import Dense\n",
    "from tensorflow.keras.callbacks import ModelCheckpoint\n",
    "import random\n",
    "\n",
    "import matplotlib.pyplot as plt\n"
   ]
  },
  {
   "cell_type": "code",
   "execution_count": 2,
   "metadata": {},
   "outputs": [
    {
     "name": "stdout",
     "output_type": "stream",
     "text": [
      "length of all books combined:  72569456\n",
      "size of data:  5000000\n",
      "number of unique characters:  48\n",
      "sentence_length:  50\n",
      "num unique_chars:  48\n",
      "['enly awaywhich mrs. jennings was desirous of her f', 'awaywhich mrs. jennings was desirous of her feelin', 'hich mrs. jennings was desirous of her feeling; fo', 'mrs. jennings was desirous of her feeling; for bes', 'jennings was desirous of her feeling; for besides ']\n",
      "['e', 'g', 'r', 'i', 't']\n",
      "(999990, 50, 48)\n",
      "(999990, 48)\n"
     ]
    }
   ],
   "source": [
    "books_combined = open('books_combined.txt').read()\n",
    "print('length of all books combined: ', len(books_combined))\n",
    "\n",
    "#work with a subset of the books\n",
    "start_book_ind = 15000000\n",
    "end_book_ind = 20000000\n",
    "sub_books_combined = books_combined[start_book_ind: end_book_ind]\n",
    "print('size of data: ', len(sub_books_combined))\n",
    "\n",
    "char_to_int = {}\n",
    "int_to_char = {}\n",
    "#turn characters into integers and integers into characters - chars should be sorted to keep consistency\n",
    "for i, char in enumerate(sorted(set(sub_books_combined))):\n",
    "    char_to_int[char] = i\n",
    "    int_to_char[i] = char\n",
    "    \n",
    "print('number of unique characters: ', len(char_to_int)) #should be 48 every time\n",
    "\n",
    "\n",
    "\n",
    "\n",
    "#returns a tensor for training\n",
    "def get_train(book, sentence_length=50):\n",
    "    sent = []\n",
    "    next_c = []\n",
    "    #get varying sentences of similar sizes - step for a size of 5 - 5 is an arbitraily chosen number\n",
    "    for i in range(0, len(book)-sentence_length, 5):\n",
    "        begin_char = i\n",
    "        end_char = i+sentence_length\n",
    "        #combine sentence to a sentence list\n",
    "        sent.append(book[begin_char: end_char])\n",
    "        #get the next character after the sentence\n",
    "        next_c.append(book[end_char])\n",
    "\n",
    "    print(sent[:5])\n",
    "    print(next_c[:5])\n",
    "\n",
    "    #turn into Tensors for training the model - using one hot encoding method\n",
    "    # 1 if char in sentence and 0 otherwise\n",
    "    unique_c_length = len(set(book)) # number of unique characters in text\n",
    "    num_sent = (len(sent)) #numer of sentences created\n",
    "    x = np.zeros((num_sent, sentence_length, unique_c_length), dtype=np.int8)\n",
    "    y = np.zeros((num_sent, unique_c_length), dtype=np.int8)\n",
    "\n",
    "    for i, sentence in enumerate(sent):\n",
    "        for k, c in enumerate(sentence):\n",
    "            c_ind = char_to_int[c]\n",
    "            x[i, k, c_ind] = 1\n",
    "\n",
    "        next_c_ind = char_to_int[next_c[i]]\n",
    "        y[i, next_c_ind] = 1\n",
    "\n",
    "\n",
    "    return x,y\n",
    "  \n",
    "  \n",
    "  \n",
    "\n",
    "sentence_length = 50\n",
    "num_unique_chars = len(set(sub_books_combined))\n",
    "print(\"sentence_length: \", sentence_length)\n",
    "print(\"num unique_chars: \", num_unique_chars)\n",
    "\n",
    "#create tensors\n",
    "x, y = get_train(sub_books_combined, sentence_length=sentence_length)\n",
    "print(x.shape)\n",
    "print(y.shape)\n",
    "\n",
    "\n",
    "\n"
   ]
  },
  {
   "cell_type": "code",
   "execution_count": 5,
   "metadata": {},
   "outputs": [
    {
     "name": "stdout",
     "output_type": "stream",
     "text": [
      "Epoch 1/38\n",
      "999936/999990 [============================>.] - ETA: 0s - loss: 1.5092\n",
      "Epoch 00001: loss improved from inf to 1.50920, saving model to deeper-network-weights-improvement-01-1.5092-bigger.hdf5\n",
      "999990/999990 [==============================] - 1111s 1ms/sample - loss: 1.5092\n",
      "Epoch 2/38\n",
      "999936/999990 [============================>.] - ETA: 0s - loss: 1.4966\n",
      "Epoch 00002: loss improved from 1.50920 to 1.49657, saving model to deeper-network-weights-improvement-02-1.4966-bigger.hdf5\n",
      "999990/999990 [==============================] - 1068s 1ms/sample - loss: 1.4966\n",
      "Epoch 3/38\n",
      "999936/999990 [============================>.] - ETA: 0s - loss: 1.4906\n",
      "Epoch 00003: loss improved from 1.49657 to 1.49055, saving model to deeper-network-weights-improvement-03-1.4906-bigger.hdf5\n",
      "999990/999990 [==============================] - 1078s 1ms/sample - loss: 1.4906\n",
      "Epoch 4/38\n",
      "999936/999990 [============================>.] - ETA: 0s - loss: 1.4861\n",
      "Epoch 00004: loss improved from 1.49055 to 1.48611, saving model to deeper-network-weights-improvement-04-1.4861-bigger.hdf5\n",
      "999990/999990 [==============================] - 1111s 1ms/sample - loss: 1.4861\n",
      "Epoch 5/38\n",
      "999936/999990 [============================>.] - ETA: 0s - loss: 1.4836\n",
      "Epoch 00005: loss improved from 1.48611 to 1.48357, saving model to deeper-network-weights-improvement-05-1.4836-bigger.hdf5\n",
      "999990/999990 [==============================] - 1130s 1ms/sample - loss: 1.4836\n",
      "Epoch 6/38\n",
      "999936/999990 [============================>.] - ETA: 0s - loss: 1.4801\n",
      "Epoch 00006: loss improved from 1.48357 to 1.48014, saving model to deeper-network-weights-improvement-06-1.4801-bigger.hdf5\n",
      "999990/999990 [==============================] - 1132s 1ms/sample - loss: 1.4801\n",
      "Epoch 7/38\n",
      "999936/999990 [============================>.] - ETA: 0s - loss: 1.4781\n",
      "Epoch 00007: loss improved from 1.48014 to 1.47814, saving model to deeper-network-weights-improvement-07-1.4781-bigger.hdf5\n",
      "999990/999990 [==============================] - 1128s 1ms/sample - loss: 1.4781\n",
      "Epoch 8/38\n",
      "999936/999990 [============================>.] - ETA: 0s - loss: 1.4759\n",
      "Epoch 00008: loss improved from 1.47814 to 1.47587, saving model to deeper-network-weights-improvement-08-1.4759-bigger.hdf5\n",
      "999990/999990 [==============================] - 1132s 1ms/sample - loss: 1.4759\n",
      "Epoch 9/38\n",
      "999936/999990 [============================>.] - ETA: 0s - loss: 1.4738\n",
      "Epoch 00009: loss improved from 1.47587 to 1.47377, saving model to deeper-network-weights-improvement-09-1.4738-bigger.hdf5\n",
      "999990/999990 [==============================] - 1151s 1ms/sample - loss: 1.4738\n",
      "Epoch 10/38\n",
      "999936/999990 [============================>.] - ETA: 0s - loss: 1.4721\n",
      "Epoch 00010: loss improved from 1.47377 to 1.47208, saving model to deeper-network-weights-improvement-10-1.4721-bigger.hdf5\n",
      "999990/999990 [==============================] - 1121s 1ms/sample - loss: 1.4721\n",
      "Epoch 11/38\n",
      "999936/999990 [============================>.] - ETA: 0s - loss: 1.4696\n",
      "Epoch 00011: loss improved from 1.47208 to 1.46962, saving model to deeper-network-weights-improvement-11-1.4696-bigger.hdf5\n",
      "999990/999990 [==============================] - 1119s 1ms/sample - loss: 1.4696\n",
      "Epoch 12/38\n",
      "999936/999990 [============================>.] - ETA: 0s - loss: 1.4686\n",
      "Epoch 00012: loss improved from 1.46962 to 1.46863, saving model to deeper-network-weights-improvement-12-1.4686-bigger.hdf5\n",
      "999990/999990 [==============================] - 1124s 1ms/sample - loss: 1.4686\n",
      "Epoch 13/38\n",
      "999936/999990 [============================>.] - ETA: 0s - loss: 1.4664\n",
      "Epoch 00013: loss improved from 1.46863 to 1.46638, saving model to deeper-network-weights-improvement-13-1.4664-bigger.hdf5\n",
      "999990/999990 [==============================] - 1122s 1ms/sample - loss: 1.4664\n",
      "Epoch 14/38\n",
      "999936/999990 [============================>.] - ETA: 0s - loss: 1.4656\n",
      "Epoch 00014: loss improved from 1.46638 to 1.46566, saving model to deeper-network-weights-improvement-14-1.4657-bigger.hdf5\n",
      "999990/999990 [==============================] - 1121s 1ms/sample - loss: 1.4657\n",
      "Epoch 15/38\n",
      "999936/999990 [============================>.] - ETA: 0s - loss: 1.4646\n",
      "Epoch 00015: loss improved from 1.46566 to 1.46466, saving model to deeper-network-weights-improvement-15-1.4647-bigger.hdf5\n",
      "999990/999990 [==============================] - 1096s 1ms/sample - loss: 1.4647\n",
      "Epoch 16/38\n",
      "999936/999990 [============================>.] - ETA: 0s - loss: 1.4628\n",
      "Epoch 00016: loss improved from 1.46466 to 1.46284, saving model to deeper-network-weights-improvement-16-1.4628-bigger.hdf5\n",
      "999990/999990 [==============================] - 1066s 1ms/sample - loss: 1.4628\n",
      "Epoch 17/38\n",
      "999936/999990 [============================>.] - ETA: 0s - loss: 1.4616\n",
      "Epoch 00017: loss improved from 1.46284 to 1.46165, saving model to deeper-network-weights-improvement-17-1.4616-bigger.hdf5\n",
      "999990/999990 [==============================] - 1045s 1ms/sample - loss: 1.4616\n",
      "Epoch 18/38\n",
      "999936/999990 [============================>.] - ETA: 0s - loss: 1.4611\n",
      "Epoch 00018: loss improved from 1.46165 to 1.46114, saving model to deeper-network-weights-improvement-18-1.4611-bigger.hdf5\n",
      "999990/999990 [==============================] - 1051s 1ms/sample - loss: 1.4611\n",
      "Epoch 19/38\n",
      "999936/999990 [============================>.] - ETA: 0s - loss: 1.4605\n",
      "Epoch 00019: loss improved from 1.46114 to 1.46049, saving model to deeper-network-weights-improvement-19-1.4605-bigger.hdf5\n",
      "999990/999990 [==============================] - 1050s 1ms/sample - loss: 1.4605\n",
      "Epoch 20/38\n",
      "999936/999990 [============================>.] - ETA: 0s - loss: 1.4593\n",
      "Epoch 00020: loss improved from 1.46049 to 1.45931, saving model to deeper-network-weights-improvement-20-1.4593-bigger.hdf5\n",
      "999990/999990 [==============================] - 1047s 1ms/sample - loss: 1.4593\n",
      "Epoch 21/38\n",
      "999936/999990 [============================>.] - ETA: 0s - loss: 1.4585\n",
      "Epoch 00021: loss improved from 1.45931 to 1.45849, saving model to deeper-network-weights-improvement-21-1.4585-bigger.hdf5\n",
      "999990/999990 [==============================] - 1044s 1ms/sample - loss: 1.4585\n",
      "Epoch 22/38\n",
      "999936/999990 [============================>.] - ETA: 0s - loss: 1.4575\n",
      "Epoch 00022: loss improved from 1.45849 to 1.45752, saving model to deeper-network-weights-improvement-22-1.4575-bigger.hdf5\n",
      "999990/999990 [==============================] - 1047s 1ms/sample - loss: 1.4575\n",
      "Epoch 23/38\n",
      "999936/999990 [============================>.] - ETA: 0s - loss: 1.4560\n",
      "Epoch 00023: loss improved from 1.45752 to 1.45602, saving model to deeper-network-weights-improvement-23-1.4560-bigger.hdf5\n",
      "999990/999990 [==============================] - 1004s 1ms/sample - loss: 1.4560\n",
      "Epoch 24/38\n",
      "999936/999990 [============================>.] - ETA: 0s - loss: 1.4555\n",
      "Epoch 00024: loss improved from 1.45602 to 1.45551, saving model to deeper-network-weights-improvement-24-1.4555-bigger.hdf5\n",
      "999990/999990 [==============================] - 1003s 1ms/sample - loss: 1.4555\n",
      "Epoch 25/38\n",
      "999936/999990 [============================>.] - ETA: 0s - loss: 1.4551\n",
      "Epoch 00025: loss improved from 1.45551 to 1.45509, saving model to deeper-network-weights-improvement-25-1.4551-bigger.hdf5\n",
      "999990/999990 [==============================] - 1004s 1ms/sample - loss: 1.4551\n",
      "Epoch 26/38\n",
      "999936/999990 [============================>.] - ETA: 0s - loss: 1.4538\n",
      "Epoch 00026: loss improved from 1.45509 to 1.45378, saving model to deeper-network-weights-improvement-26-1.4538-bigger.hdf5\n",
      "999990/999990 [==============================] - 1003s 1ms/sample - loss: 1.4538\n",
      "Epoch 27/38\n",
      "999936/999990 [============================>.] - ETA: 0s - loss: 1.4529\n",
      "Epoch 00027: loss improved from 1.45378 to 1.45290, saving model to deeper-network-weights-improvement-27-1.4529-bigger.hdf5\n",
      "999990/999990 [==============================] - 1459s 1ms/sample - loss: 1.4529\n",
      "Epoch 28/38\n",
      "999936/999990 [============================>.] - ETA: 0s - loss: 1.4530\n",
      "Epoch 00028: loss did not improve from 1.45290\n",
      "999990/999990 [==============================] - 1292s 1ms/sample - loss: 1.4530\n",
      "Epoch 29/38\n",
      "999936/999990 [============================>.] - ETA: 0s - loss: 1.4515\n",
      "Epoch 00029: loss improved from 1.45290 to 1.45153, saving model to deeper-network-weights-improvement-29-1.4515-bigger.hdf5\n"
     ]
    },
    {
     "name": "stdout",
     "output_type": "stream",
     "text": [
      "999990/999990 [==============================] - 1017s 1ms/sample - loss: 1.4515\n",
      "Epoch 30/38\n",
      "999936/999990 [============================>.] - ETA: 0s - loss: 1.4519\n",
      "Epoch 00030: loss did not improve from 1.45153\n",
      "999990/999990 [==============================] - 971s 971us/sample - loss: 1.4519\n",
      "Epoch 31/38\n",
      "999936/999990 [============================>.] - ETA: 0s - loss: 1.4515\n",
      "Epoch 00031: loss improved from 1.45153 to 1.45151, saving model to deeper-network-weights-improvement-31-1.4515-bigger.hdf5\n",
      "999990/999990 [==============================] - 982s 982us/sample - loss: 1.4515\n",
      "Epoch 32/38\n",
      "999936/999990 [============================>.] - ETA: 0s - loss: 1.4508\n",
      "Epoch 00032: loss improved from 1.45151 to 1.45083, saving model to deeper-network-weights-improvement-32-1.4508-bigger.hdf5\n",
      "999990/999990 [==============================] - 989s 989us/sample - loss: 1.4508\n",
      "Epoch 33/38\n",
      "999936/999990 [============================>.] - ETA: 0s - loss: 1.4497\n",
      "Epoch 00033: loss improved from 1.45083 to 1.44967, saving model to deeper-network-weights-improvement-33-1.4497-bigger.hdf5\n",
      "999990/999990 [==============================] - 1882s 2ms/sample - loss: 1.4497\n",
      "Epoch 34/38\n",
      "999936/999990 [============================>.] - ETA: 0s - loss: 1.4493\n",
      "Epoch 00034: loss improved from 1.44967 to 1.44929, saving model to deeper-network-weights-improvement-34-1.4493-bigger.hdf5\n",
      "999990/999990 [==============================] - 1132s 1ms/sample - loss: 1.4493\n",
      "Epoch 35/38\n",
      "999936/999990 [============================>.] - ETA: 0s - loss: 1.4484\n",
      "Epoch 00035: loss improved from 1.44929 to 1.44845, saving model to deeper-network-weights-improvement-35-1.4485-bigger.hdf5\n",
      "999990/999990 [==============================] - 1081s 1ms/sample - loss: 1.4485\n",
      "Epoch 36/38\n",
      "999936/999990 [============================>.] - ETA: 0s - loss: 1.4483\n",
      "Epoch 00036: loss improved from 1.44845 to 1.44827, saving model to deeper-network-weights-improvement-36-1.4483-bigger.hdf5\n",
      "999990/999990 [==============================] - 1091s 1ms/sample - loss: 1.4483\n",
      "Epoch 37/38\n",
      "999936/999990 [============================>.] - ETA: 0s - loss: 1.4481\n",
      "Epoch 00037: loss improved from 1.44827 to 1.44810, saving model to deeper-network-weights-improvement-37-1.4481-bigger.hdf5\n",
      "999990/999990 [==============================] - 1183s 1ms/sample - loss: 1.4481\n",
      "Epoch 38/38\n",
      "999936/999990 [============================>.] - ETA: 0s - loss: 1.4468\n",
      "Epoch 00038: loss improved from 1.44810 to 1.44676, saving model to deeper-network-weights-improvement-38-1.4468-bigger.hdf5\n",
      "999990/999990 [==============================] - 1224s 1ms/sample - loss: 1.4468\n"
     ]
    },
    {
     "data": {
      "text/plain": [
       "<tensorflow.python.keras.callbacks.History at 0x12fc91fd0>"
      ]
     },
     "execution_count": 5,
     "metadata": {},
     "output_type": "execute_result"
    }
   ],
   "source": [
    "#save models that perform best\n",
    "filepath=\"deeper-network-weights-improvement-{epoch:02d}-{loss:.4f}-bigger.hdf5\"\n",
    "checkpoint = ModelCheckpoint(filepath, monitor='loss', verbose=1, save_best_only=True, mode='min')\n",
    "\n",
    "#create network\n",
    "model = Sequential()\n",
    "#128 nodes are used b/c the current network is small\n",
    "model.add(LSTM(128, input_shape=(sentence_length, num_unique_chars)))\n",
    "model.add(Dropout(0.2))\n",
    "# model.add(LSTM(128))\n",
    "# model.add(Dropout(0.2))\n",
    "#add the output layer\n",
    "model.add(Dense(num_unique_chars, activation='softmax'))\n",
    "#load previous weights\n",
    "weights_filename = 'models/round4/weights-improvement-18-1.4762-bigger.hdf5'\n",
    "model.load_weights(weights_filename)\n",
    "model.compile(loss='categorical_crossentropy', optimizer='adam')\n",
    "\n",
    "model.fit(x, y, epochs=38, batch_size=128, callbacks=[checkpoint])"
   ]
  },
  {
   "cell_type": "code",
   "execution_count": 10,
   "metadata": {},
   "outputs": [],
   "source": [
    "#creates new sentence\n",
    "def create_passage(model):\n",
    "    #complete passage string\n",
    "    gen_sentence = ''\n",
    "\n",
    "    #create sentence\n",
    "    start_ind = random.randint(0, len(sub_books_combined) - sentence_length - 1)\n",
    "    sentence = sub_books_combined[start_ind: start_ind+sentence_length]\n",
    "    gen_sentence += sentence\n",
    "    print('original sentenc: ', sentence)\n",
    "\n",
    "    for i in range(500):\n",
    "    #turn sentence into model format\n",
    "        x_pred = np.zeros((1, sentence_length, len(char_to_int)))\n",
    "        for k, c in enumerate(sentence):\n",
    "            x_ind = char_to_int[c]\n",
    "            x_pred[0, k, x_ind] = 1\n",
    "\n",
    "        #predict next character - returns predicted probabilities\n",
    "        prob_c = model.predict(x_pred, verbose=0)[0]\n",
    "        #turn to float64 - mulitnomial gives error otherwise\n",
    "        prob_c = np.asarray(prob_c).astype('float64')\n",
    "        #     print(prob_c)\n",
    "        #sample from the probability \n",
    "        log_prob = np.log(prob_c) / 0.5\n",
    "        #     print(log_prob)\n",
    "        exp_prob = np.exp(log_prob)\n",
    "        #     print(exp_prob)\n",
    "        pred_prob = exp_prob/np.sum(exp_prob)\n",
    "        #     print(pred_prob)\n",
    "        p = np.random.multinomial(1, pred_prob, 1) \n",
    "        #     print(p)\n",
    "        prob_ind = np.argmax(p)\n",
    "        #     print(prob_ind)\n",
    "\n",
    "\n",
    "\n",
    "\n",
    "        #turn int to character\n",
    "        next_c = int_to_char[prob_ind]\n",
    "        #add character to generated sentence\n",
    "        gen_sentence += next_c\n",
    "        #     print(gen_sentence)\n",
    "        #get new sentence by sliding to index of sentence\n",
    "        sentence = sentence[1:]+next_c\n",
    "\n",
    "\n",
    "    return gen_sentence"
   ]
  },
  {
   "cell_type": "code",
   "execution_count": 36,
   "metadata": {},
   "outputs": [
    {
     "name": "stdout",
     "output_type": "stream",
     "text": [
      "original sentenc:  sly          stirred us to glory and gave me these\n",
      "sly          stirred us to glory and gave me these of the sense of the strong and being in a state and the street the soul for the spoken to scarne the fire destroyed and with the subjects best notice and absolute stream by the death of a contrary of the concerning the supportions is been ever known to the interest of the carriage in the man project gutenberg-tm electronic works in a most common-wealth and one of one final and the more not one of the wants of the consequence where the present stood the other were the small and project gutenberg\n"
     ]
    }
   ],
   "source": [
    "#test out creating a passage using some of the passage within the books\n",
    "print(create_passage(model))"
   ]
  },
  {
   "cell_type": "code",
   "execution_count": 13,
   "metadata": {},
   "outputs": [
    {
     "name": "stdout",
     "output_type": "stream",
     "text": [
      "Saved model to disk\n"
     ]
    }
   ],
   "source": [
    "# serialize model to JSON\n",
    "model_json = model.to_json()\n",
    "with open(\"model_4_architecture.json\", \"w+\") as json_file:\n",
    "    json_file.write(model_json)\n",
    "# serialize weights to HDF5\n",
    "model.save_weights(\"model_4.h5\")\n",
    "print(\"Saved model to disk\")"
   ]
  },
  {
   "cell_type": "code",
   "execution_count": 21,
   "metadata": {},
   "outputs": [],
   "source": [
    "history_dict = model.history.history"
   ]
  },
  {
   "cell_type": "code",
   "execution_count": 24,
   "metadata": {},
   "outputs": [
    {
     "data": {
      "text/plain": [
       "38"
      ]
     },
     "execution_count": 24,
     "metadata": {},
     "output_type": "execute_result"
    }
   ],
   "source": [
    "history_dict['loss']"
   ]
  },
  {
   "cell_type": "code",
   "execution_count": 32,
   "metadata": {},
   "outputs": [
    {
     "data": {
      "image/png": "[encoded data removed]",
      "text/plain": [
       "<Figure size 432x288 with 1 Axes>"
      ]
     },
     "metadata": {
      "needs_background": "light"
     },
     "output_type": "display_data"
    }
   ],
   "source": [
    "plt.plot(range(38), history_dict['loss'])\n",
    "plt.title('Training Data Loss Function')\n",
    "plt.xlabel('epochs')\n",
    "plt.ylabel('loss')\n",
    "plt.show()"
   ]
  },
  {
   "cell_type": "code",
   "execution_count": null,
   "metadata": {},
   "outputs": [],
   "source": [
    "# load json and create model architecture\n",
    "json_file = open('model.json', 'r')\n",
    "loaded_model_json = json_file.read()\n",
    "json_file.close()\n",
    "loaded_model = model_from_json(loaded_model_json)\n",
    "# load weights into new model\n",
    "loaded_model.load_weights(\"model.h5\")\n",
    "print(\"Loaded model from disk\")"
   ]
  },
  {
   "cell_type": "code",
   "execution_count": null,
   "metadata": {},
   "outputs": [],
   "source": [
    "# evaluate loaded model on test data/ predict\n",
    "loaded_model.compile(loss='binary_crossentropy', optimizer='rmsprop', metrics=['accuracy'])\n",
    "score = loaded_model.evaluate(X, Y, verbose=0)\n",
    "print(\"%s: %.2f%%\" % (loaded_model.metrics_names[1], score[1]*100))"
   ]
  }
 ],
 "metadata": {
  "kernelspec": {
   "display_name": "Python 3",
   "language": "python",
   "name": "python3"
  },
  "language_info": {
   "codemirror_mode": {
    "name": "ipython",
    "version": 3
   },
   "file_extension": ".py",
   "mimetype": "text/x-python",
   "name": "python",
   "nbconvert_exporter": "python",
   "pygments_lexer": "ipython3",
   "version": "3.7.2"
  }
 },
 "nbformat": 4,
 "nbformat_minor": 2
}
