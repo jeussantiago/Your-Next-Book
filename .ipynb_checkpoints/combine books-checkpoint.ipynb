{
 "cells": [
  {
   "cell_type": "code",
   "execution_count": 1,
   "metadata": {},
   "outputs": [],
   "source": [
    "import os\n",
    "import numpy as np"
   ]
  },
  {
   "cell_type": "markdown",
   "metadata": {},
   "source": [
    "Read books"
   ]
  },
  {
   "cell_type": "code",
   "execution_count": 92,
   "metadata": {
    "scrolled": true
   },
   "outputs": [
    {
     "name": "stdout",
     "output_type": "stream",
     "text": [
      "passed:  project_books/.DS_Store\n"
     ]
    }
   ],
   "source": [
    "def remove_unnecessary_chars(book):\n",
    "    def isValid(c):\n",
    "        return c in \"abcdefghijklmnopqrstuvwxyz1234567890, .;:?!&')(-\"\n",
    "    return ''.join(c for c in book if isValid(c))\n",
    "\n",
    "\n",
    "#file path for where the book txts are\n",
    "book_path = 'project_books/'\n",
    "book_txt_paths = []\n",
    "books = []\n",
    "books_combined = ''\n",
    "\n",
    "for root, dirs, files in os.walk(book_path):\n",
    "    #file names in files path\n",
    "    for file in files:\n",
    "        #create complete path to book\n",
    "        book_file_path = book_path+file\n",
    "        \n",
    "        book_txt_paths.append(book_file_path )\n",
    "#         print(book_file_path)\n",
    "        #open txt file\n",
    "        try:\n",
    "            book = open(book_file_path).read()\n",
    "            #clean the text\n",
    "            book = book.replace('\\n', ' ')\n",
    "            book = book.replace('\\r', ' ')\n",
    "            book = book.replace('\\ufeff', ' ')\n",
    "            book = book.replace('\\xa0', ' ')\n",
    "            book = book.replace('project gutenberg-tm', ' ')\n",
    "            book = book.replace('project gutenberg-tm electronic', ' ')\n",
    "            book = book.lower()\n",
    "            \n",
    "            #have the minimum characters in the book\n",
    "            book = remove_unnecessary_chars(book)\n",
    "            \n",
    "            books.append(book)\n",
    "            #combine books together\n",
    "            books_combined += book\n",
    "        #some files don't have book texts\n",
    "        except:\n",
    "            print('passed: ', book_file_path)\n",
    "            pass\n",
    "        \n",
    "\n"
   ]
  },
  {
   "cell_type": "code",
   "execution_count": 99,
   "metadata": {},
   "outputs": [],
   "source": [
    "books_combined = ', '.join(books_combined.split(','))"
   ]
  },
  {
   "cell_type": "code",
   "execution_count": 102,
   "metadata": {},
   "outputs": [],
   "source": [
    "books_combined = books_combined.replace('  ', ' ')"
   ]
  },
  {
   "cell_type": "code",
   "execution_count": 90,
   "metadata": {},
   "outputs": [],
   "source": [
    "#seperate the special characters from the words\n",
    "for punc in '.;:?!&,':\n",
    "    punc_space = punc + ' '\n",
    "    \n",
    "    books_combined = punc_space.join(books_combined.split(punc))\n",
    "\n",
    "books_combined = books_combined.replace('  ', ' ')"
   ]
  },
  {
   "cell_type": "code",
   "execution_count": 103,
   "metadata": {},
   "outputs": [
    {
     "data": {
      "text/plain": [
       "'ven and a half pounds since i saw you. seven! i answered. indeed, i should have thought a little more. just a trifle more, i fancy, watson. and in practice again, i observe. you did not tell me that you intended to go into harness. then, how do you know? i see it, i deduce it. how do i know that you have been getting yourself very wet lately, and that you have a most clumsy and careless servant girl? my dear holmes, said i, this is too much. you would certainly have been burned, had you lived a few centuries ago. it is true that i had a country walk on thursday and came home in a dreadful mess, but as i have changed my clothes i cant imagine how you deduce it. as to mary jane, she is incorrigible, and my wife has given her notice, but there, again, i fail to see how you work it out. he chuckled to himself and rubbed his long, nervous hands together. it is simplicity itself, said he; my eyes tell me that on the inside of your left shoe, just where the firelight strikes it, the leather i'"
      ]
     },
     "execution_count": 103,
     "metadata": {},
     "output_type": "execute_result"
    }
   ],
   "source": [
    "books_combined[5000:6000]"
   ]
  },
  {
   "cell_type": "code",
   "execution_count": 104,
   "metadata": {},
   "outputs": [],
   "source": [
    "# store all the sentences in a txt file for quicker access\n",
    "f = open('books_combined.txt', 'w+')\n",
    "f.write(books_combined)\n",
    "f.close()"
   ]
  }
 ],
 "metadata": {
  "kernelspec": {
   "display_name": "Python 3",
   "language": "python",
   "name": "python3"
  },
  "language_info": {
   "codemirror_mode": {
    "name": "ipython",
    "version": 3
   },
   "file_extension": ".py",
   "mimetype": "text/x-python",
   "name": "python",
   "nbconvert_exporter": "python",
   "pygments_lexer": "ipython3",
   "version": "3.7.2"
  }
 },
 "nbformat": 4,
 "nbformat_minor": 2
}
